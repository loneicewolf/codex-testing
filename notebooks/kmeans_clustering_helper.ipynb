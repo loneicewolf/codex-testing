{
 "cells": [
  {
   "cell_type": "markdown",
   "metadata": {},
   "source": [
    "# KMeans Clustering Helper"
   ]
  },
  {
   "cell_type": "code",
   "execution_count": null,
   "metadata": {},
   "outputs": [],
   "source": [
    "import pandas as pd\n",
    "from sklearn.cluster import KMeans\n",
    "import ipywidgets as widgets\n",
    "from IPython.display import display\n",
    "import io\n"
   ]
  },
  {
   "cell_type": "code",
   "execution_count": null,
   "metadata": {},
   "outputs": [],
   "source": [
    "upload = widgets.FileUpload(accept='.csv', multiple=False)\n",
    "clusters = widgets.IntSlider(value=3, min=2, max=10, step=1, description='Clusters')\n",
    "run_button = widgets.Button(description='Cluster')\n",
    "output = widgets.Output()\n",
    "display(upload, clusters, run_button, output)\n"
   ]
  },
  {
   "cell_type": "code",
   "execution_count": null,
   "metadata": {},
   "outputs": [],
   "source": [
    "def on_cluster_clicked(b):\n",
    "    with output:\n",
    "        output.clear_output()\n",
    "        if len(upload.value) == 0:\n",
    "            print(\"Upload CSV data first.\")\n",
    "            return\n",
    "        content = list(upload.value.values())[0]['content']\n",
    "        df = pd.read_csv(io.BytesIO(content))\n",
    "        kmeans = KMeans(n_clusters=clusters.value)\n",
    "        labels = kmeans.fit_predict(df)\n",
    "        df[\"cluster\"] = labels\n",
    "        df.to_csv(\"clustered.csv\", index=False)\n",
    "        print(\"Clustered data saved to clustered.csv\")\n",
    "        display(df.head())\n",
    "\n",
    "run_button.on_click(on_cluster_clicked)\n"
   ]
  }
 ],
 "metadata": {
  "kernelspec": {
   "display_name": "Python 3",
   "language": "python",
   "name": "python3"
  },
  "language_info": {
   "name": "python",
   "version": "3.x"
  }
 },
 "nbformat": 4,
 "nbformat_minor": 4
}
