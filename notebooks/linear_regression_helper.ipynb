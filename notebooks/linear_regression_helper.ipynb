{
 "cells": [
  {
   "cell_type": "markdown",
   "metadata": {},
   "source": [
    "# Linear Regression Helper"
   ]
  },
  {
   "cell_type": "code",
   "execution_count": null,
   "metadata": {},
   "outputs": [],
   "source": [
    "import pandas as pd\n",
    "from sklearn.model_selection import train_test_split\n",
    "from sklearn.linear_model import LinearRegression\n",
    "import ipywidgets as widgets\n",
    "from IPython.display import display\n",
    "import joblib, io\n"
   ]
  },
  {
   "cell_type": "code",
   "execution_count": null,
   "metadata": {},
   "outputs": [],
   "source": [
    "upload = widgets.FileUpload(accept='.csv', multiple=False)\n",
    "display(upload)\n"
   ]
  },
  {
   "cell_type": "code",
   "execution_count": null,
   "metadata": {},
   "outputs": [],
   "source": [
    "def load_data(upload):\n",
    "    if len(upload.value) > 0:\n",
    "        content = list(upload.value.values())[0]['content']\n",
    "        df = pd.read_csv(io.BytesIO(content))\n",
    "        return df\n",
    "    return pd.DataFrame()\n",
    "\n",
    "df = load_data(upload)\n",
    "df.head()\n"
   ]
  },
  {
   "cell_type": "code",
   "execution_count": null,
   "metadata": {},
   "outputs": [],
   "source": [
    "test_size = widgets.FloatSlider(value=0.2, min=0.1, max=0.9, step=0.1, description='Test Size:')\n",
    "train_button = widgets.Button(description='Train Model')\n",
    "output = widgets.Output()\n",
    "display(test_size, train_button, output)\n",
    "\n",
    "def on_train_clicked(b):\n",
    "    with output:\n",
    "        output.clear_output()\n",
    "        if df.empty:\n",
    "            print(\"Upload a CSV file first.\")\n",
    "            return\n",
    "        X = df.iloc[:, :-1]\n",
    "        y = df.iloc[:, -1]\n",
    "        X_train, X_test, y_train, y_test = train_test_split(X, y, test_size=test_size.value, random_state=42)\n",
    "        model = LinearRegression()\n",
    "        model.fit(X_train, y_train)\n",
    "        score = model.score(X_test, y_test)\n",
    "        joblib.dump(model, \"linear_model.joblib\")\n",
    "        print(f\"Test R^2: {score:.3f}\")\n",
    "        print(\"Model saved to linear_model.joblib\")\n",
    "\n",
    "train_button.on_click(on_train_clicked)\n"
   ]
  }
 ],
 "metadata": {
  "kernelspec": {
   "display_name": "Python 3",
   "language": "python",
   "name": "python3"
  },
  "language_info": {
   "name": "python",
   "version": "3.x"
  }
 },
 "nbformat": 4,
 "nbformat_minor": 4
}
