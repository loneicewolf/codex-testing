{
 "cells": [
  {
   "cell_type": "markdown",
   "metadata": {},
   "source": [
    "# Simple MNIST Classifier using Keras"
   ]
  },
  {
   "cell_type": "code",
   "execution_count": null,
   "metadata": {},
   "outputs": [],
   "source": [
    "from tensorflow import keras\n",
    "from tensorflow.keras import layers\n",
    "import ipywidgets as widgets\n",
    "from IPython.display import display\n"
   ]
  },
  {
   "cell_type": "code",
   "execution_count": null,
   "metadata": {},
   "outputs": [],
   "source": [
    "epochs = widgets.IntSlider(value=5, min=1, max=20, step=1, description='Epochs')\n",
    "batch_size = widgets.IntSlider(value=32, min=16, max=128, step=16, description='Batch Size')\n",
    "train_button = widgets.Button(description='Train')\n",
    "output = widgets.Output()\n",
    "display(epochs, batch_size, train_button, output)\n"
   ]
  },
  {
   "cell_type": "code",
   "execution_count": null,
   "metadata": {},
   "outputs": [],
   "source": [
    "def on_train_clicked(b):\n",
    "    with output:\n",
    "        output.clear_output()\n",
    "        (x_train, y_train), (x_test, y_test) = keras.datasets.mnist.load_data()\n",
    "        x_train = x_train.reshape(-1, 28*28).astype(\"float32\") / 255\n",
    "        x_test = x_test.reshape(-1, 28*28).astype(\"float32\") / 255\n",
    "        model = keras.Sequential([\n",
    "            layers.Dense(128, activation=\"relu\", input_shape=(28*28,)),\n",
    "            layers.Dense(10, activation=\"softmax\")\n",
    "        ])\n",
    "        model.compile(optimizer=\"adam\", loss=\"sparse_categorical_crossentropy\", metrics=[\"accuracy\"])\n",
    "        model.fit(x_train, y_train, epochs=epochs.value, batch_size=batch_size.value, verbose=0)\n",
    "        loss, acc = model.evaluate(x_test, y_test, verbose=0)\n",
    "        model.save(\"mnist_model.h5\")\n",
    "        print(f\"Test accuracy: {acc:.3f}\")\n",
    "        print(\"Model saved to mnist_model.h5\")\n",
    "\n",
    "train_button.on_click(on_train_clicked)\n"
   ]
  }
 ],
 "metadata": {
  "kernelspec": {
   "display_name": "Python 3",
   "language": "python",
   "name": "python3"
  },
  "language_info": {
   "name": "python",
   "version": "3.x"
  }
 },
 "nbformat": 4,
 "nbformat_minor": 4
}
